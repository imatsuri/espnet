{
 "cells": [
  {
   "cell_type": "code",
   "execution_count": 1,
   "metadata": {},
   "outputs": [],
   "source": [
    "import argparse\n",
    "import numpy as np\n",
    "import torch\n",
    "from espnet2.bin.tts_inference import Text2Speech\n",
    "from espnet2.utils.types import str_or_none"
   ]
  },
  {
   "cell_type": "code",
   "execution_count": 3,
   "metadata": {},
   "outputs": [],
   "source": [
    "output_fname = \"output.wav\"\n",
    "\n",
    "fs, lang = 44100, \"Japanese\"\n",
    "model='exp/tts_train_raw_phn_jaconv_pyopenjtalk_prosody/178epoch.pth'\n",
    "\n",
    "text2speech = Text2Speech.from_pretrained(\n",
    "    model_file=model,\n",
    "    device=\"cpu\"\n",
    ")"
   ]
  },
  {
   "cell_type": "code",
   "execution_count": 4,
   "metadata": {},
   "outputs": [],
   "source": [
    "pause = np.zeros(30000, dtype=np.float32)\n",
    "\n",
    "x = \"私の名前は岩崎です\"\n",
    "sentence_list = x.split('<pause>')\n",
    "\n",
    "wav_list = []"
   ]
  },
  {
   "cell_type": "code",
   "execution_count": 5,
   "metadata": {},
   "outputs": [
    {
     "name": "stderr",
     "output_type": "stream",
     "text": [
      "[W NNPACK.cpp:79] Could not initialize NNPACK! Reason: Unsupported hardware.\n"
     ]
    }
   ],
   "source": [
    "for sentence in sentence_list:\n",
    "    with torch.no_grad():\n",
    "        result = text2speech(sentence)[\"wav\"]\n",
    "        wav_list.append(np.concatenate([result.view(-1).cpu().numpy(), pause]))\n",
    "\n",
    "final_wav = np.concatenate(wav_list)"
   ]
  },
  {
   "cell_type": "code",
   "execution_count": 12,
   "metadata": {},
   "outputs": [],
   "source": [
    "result = text2speech(sentence)"
   ]
  },
  {
   "cell_type": "code",
   "execution_count": 17,
   "metadata": {},
   "outputs": [
    {
     "name": "stdout",
     "output_type": "stream",
     "text": [
      "dict_keys(['feat_gen', 'prob', 'att_w', 'feat_gen_denorm', 'duration', 'focus_rate', 'wav'])\n"
     ]
    }
   ],
   "source": [
    "type(result)\n",
    "print(result.keys())"
   ]
  },
  {
   "cell_type": "code",
   "execution_count": 6,
   "metadata": {},
   "outputs": [
    {
     "ename": "SyntaxError",
     "evalue": "invalid syntax (3523856632.py, line 1)",
     "output_type": "error",
     "traceback": [
      "\u001b[0;36m  Input \u001b[0;32mIn [6]\u001b[0;36m\u001b[0m\n\u001b[0;31m    rom scipy.io.wavfile import write\u001b[0m\n\u001b[0m        ^\u001b[0m\n\u001b[0;31mSyntaxError\u001b[0m\u001b[0;31m:\u001b[0m invalid syntax\n"
     ]
    }
   ],
   "source": [
    "rom scipy.io.wavfile import write\n",
    "write(output_fname, rate=text2speech.fs, data=final_wav)"
   ]
  },
  {
   "cell_type": "code",
   "execution_count": 18,
   "metadata": {},
   "outputs": [
    {
     "name": "stdout",
     "output_type": "stream",
     "text": [
      "['k', 'o', 'N', 'n', 'i', 'ch', 'i', 'w', 'a']\n"
     ]
    }
   ],
   "source": [
    "import pyopenjtalk\n",
    "\n",
    "# phones is a str object separated by space\n",
    "phones = pyopenjtalk.g2p('こんにちは', kana=False)\n",
    "phones = phones.split(\" \")\n",
    "print(phones)"
   ]
  },
  {
   "cell_type": "code",
   "execution_count": 19,
   "metadata": {},
   "outputs": [
    {
     "name": "stdout",
     "output_type": "stream",
     "text": [
      "['k', '5', '-4', 'o', '5', '-4', 'N', '5', '-3', 'n', '5', '-2', 'i', '5', '-2', 'ch', '5', '-1', 'i', '5', '-1', 'w', '5', '0', 'a', '5', '0']\n"
     ]
    }
   ],
   "source": [
    "import re\n",
    "\n",
    "phones = []\n",
    "for labels in pyopenjtalk.run_frontend(\"こんにちは\")[1]:\n",
    "    p = re.findall(r\"\\-(.*?)\\+.*?\\/A:([0-9\\-]+).*?\\/F:.*?_([0-9]+)\", labels)\n",
    "    if len(p) == 1:\n",
    "        phones += [p[0][0], p[0][2], p[0][1]]\n",
    "\n",
    "print(phones)"
   ]
  },
  {
   "cell_type": "code",
   "execution_count": 2,
   "metadata": {},
   "outputs": [],
   "source": [
    "from espnet2.text.phoneme_tokenizer import PhonemeTokenizer\n",
    "phone = PhonemeTokenizer(g2p_type = \"pyopenjtalk_prosody\")"
   ]
  },
  {
   "cell_type": "code",
   "execution_count": 5,
   "metadata": {},
   "outputs": [
    {
     "name": "stdout",
     "output_type": "stream",
     "text": [
      "<class 'list'>\n"
     ]
    }
   ],
   "source": [
    "result = phone.text2tokens(\"私の名前は岩崎です\")\n",
    "print(type(result))"
   ]
  }
 ],
 "metadata": {
  "kernelspec": {
   "display_name": "Python 3.8.13 ('onmt')",
   "language": "python",
   "name": "python3"
  },
  "language_info": {
   "codemirror_mode": {
    "name": "ipython",
    "version": 3
   },
   "file_extension": ".py",
   "mimetype": "text/x-python",
   "name": "python",
   "nbconvert_exporter": "python",
   "pygments_lexer": "ipython3",
   "version": "3.8.13"
  },
  "orig_nbformat": 4,
  "vscode": {
   "interpreter": {
    "hash": "a4b870e1de41f6cb5210cc75daaa22f687f2b3e54a81a159a8881cd6d119623a"
   }
  }
 },
 "nbformat": 4,
 "nbformat_minor": 2
}
